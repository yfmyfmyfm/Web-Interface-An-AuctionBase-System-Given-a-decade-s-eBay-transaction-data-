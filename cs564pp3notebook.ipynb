{
 "cells": [
  {
   "cell_type": "code",
   "execution_count": 1,
   "metadata": {},
   "outputs": [],
   "source": [
    "%load_ext sql"
   ]
  },
  {
   "cell_type": "code",
   "execution_count": 2,
   "metadata": {},
   "outputs": [
    {
     "data": {
      "text/plain": [
       "u'Connected: @./AuctionBase.db'"
      ]
     },
     "execution_count": 2,
     "metadata": {},
     "output_type": "execute_result"
    }
   ],
   "source": [
    "%sql sqlite:///./AuctionBase.db"
   ]
  },
  {
   "cell_type": "code",
   "execution_count": 45,
   "metadata": {},
   "outputs": [
    {
     "name": "stderr",
     "output_type": "stream",
     "text": [
      "0.0 (12): update CurrentTime set Time = '2001-12-20 00:00:18'\n",
      "0.0 (13): select * from Users where UserID =  'ofur'\n",
      "0.0 (14): select * from Items where ItemID = 1046651797 and Started <= (select Time from CurrentTime) and Ends > (select Time from CurrentTime) and ( (Buy_Price is NULL) or (Currently < Buy_Price) ) and Currently < 13\n"
     ]
    },
    {
     "data": {
      "text/plain": [
       "False"
      ]
     },
     "execution_count": 45,
     "metadata": {},
     "output_type": "execute_result"
    }
   ],
   "source": [
    "# getItemById(1043374545)\n",
    "# getCategoryById(1043374545)\n",
    "# getBidById(1043495702)\n",
    "# getStatusById(1043495702)\n",
    "updateTime('2001-12-20 00:00:18')\n",
    "# getTime()\n",
    "addBid(1046651797,'ofur', 13)\n",
    "# addBid(1046682949,'goldcoastvideo', 5.0)\n",
    "# addBid(1,2, 350, '2018-12-10 00:00:12')\n",
    "# addBid(1,2, 550, '2018-12-10 00:00:13')\n",
    "# addBid(1,3, 650, '2018-12-10 00:00:14')"
   ]
  },
  {
   "cell_type": "code",
   "execution_count": 43,
   "metadata": {},
   "outputs": [
    {
     "name": "stdout",
     "output_type": "stream",
     "text": [
      " * sqlite:///./AuctionBase.db\n",
      "Done.\n"
     ]
    },
    {
     "data": {
      "text/html": [
       "<table>\n",
       "    <tr>\n",
       "        <th>ItemID</th>\n",
       "        <th>UserID</th>\n",
       "        <th>Amount</th>\n",
       "        <th>Time</th>\n",
       "    </tr>\n",
       "    <tr>\n",
       "        <td>1046651797</td>\n",
       "        <td>ofur</td>\n",
       "        <td>8.03</td>\n",
       "        <td>2001-12-20 00:00:14</td>\n",
       "    </tr>\n",
       "    <tr>\n",
       "        <td>1046651797</td>\n",
       "        <td>ofur</td>\n",
       "        <td>10.0</td>\n",
       "        <td>2001-12-20 00:00:16</td>\n",
       "    </tr>\n",
       "</table>"
      ],
      "text/plain": [
       "[(1046651797, u'ofur', 8.03, u'2001-12-20 00:00:14'),\n",
       " (1046651797, u'ofur', 10.0, u'2001-12-20 00:00:16')]"
      ]
     },
     "execution_count": 43,
     "metadata": {},
     "output_type": "execute_result"
    }
   ],
   "source": [
    "%%sql\n",
    "select * from bids where itemid = 1046651797"
   ]
  },
  {
   "cell_type": "code",
   "execution_count": 44,
   "metadata": {},
   "outputs": [
    {
     "name": "stdout",
     "output_type": "stream",
     "text": [
      " * sqlite:///./AuctionBase.db\n",
      "Done.\n"
     ]
    },
    {
     "data": {
      "text/html": [
       "<table>\n",
       "    <tr>\n",
       "        <th>ItemID</th>\n",
       "        <th>Name</th>\n",
       "        <th>Currently</th>\n",
       "        <th>First_Bid</th>\n",
       "        <th>Buy_Price</th>\n",
       "        <th>Number_of_Bids</th>\n",
       "        <th>Started</th>\n",
       "        <th>Ends</th>\n",
       "        <th>Seller_UserID</th>\n",
       "        <th>Description</th>\n",
       "    </tr>\n",
       "    <tr>\n",
       "        <td>1046651797</td>\n",
       "        <td>AGATHA CHRISTIE FACE TO FACE GAME CARD</td>\n",
       "        <td>10.0</td>\n",
       "        <td>2.0</td>\n",
       "        <td>9.45</td>\n",
       "        <td>2</td>\n",
       "        <td>2001-12-10 07:01:21</td>\n",
       "        <td>2001-12-20 00:00:16</td>\n",
       "        <td>seaol.com</td>\n",
       "        <td>ONE OF THE GREAT WRITERS OF THE 20TH CENTURY. FROM A GAME CALLED FACE TO FACE PRODUCED IN THE EARLY 1990'S.AN UNUSUAL AGATHA CHRISTIE CARD.THE BACK OF THE CARD HAS A SINGLE LETTER ON IT THAT IS USED TO PLAY THE GAME. NICE CONDITION.LOW OPENING BID.YOU ARE BIDDING ON THE CARD IN THE 2ND ROW,FAR LEFT ONLY.ALL OTHERS IN PHOTO ARE IN OUR OTHER ONGOING AUCTIONS ON EBAY. WINNER TO PAY $1.50 SHIPPING ANYWHERE IN THE U.S. COMBINE WINNING BIDS TO SAVE SOME ON SHIPPING.GOOD LUCK!</td>\n",
       "    </tr>\n",
       "</table>"
      ],
      "text/plain": [
       "[(1046651797, u'AGATHA CHRISTIE FACE TO FACE GAME CARD', 10.0, 2.0, 9.45, 2, u'2001-12-10 07:01:21', u'2001-12-20 00:00:16', u'seaol.com', u\"ONE OF THE GREAT WRITERS OF THE 20TH CENTURY. FROM A GAME CALLED FACE TO FACE PRODUCED IN THE EARLY 1990'S.AN UNUSUAL AGATHA CHRISTIE CARD.THE BACK  ... (177 characters truncated) ... ARE IN OUR OTHER ONGOING AUCTIONS ON EBAY. WINNER TO PAY $1.50 SHIPPING ANYWHERE IN THE U.S. COMBINE WINNING BIDS TO SAVE SOME ON SHIPPING.GOOD LUCK!\")]"
      ]
     },
     "execution_count": 44,
     "metadata": {},
     "output_type": "execute_result"
    }
   ],
   "source": [
    "%%sql\n",
    "select * from items where itemid = 1046651797"
   ]
  },
  {
   "cell_type": "code",
   "execution_count": 29,
   "metadata": {},
   "outputs": [
    {
     "name": "stdout",
     "output_type": "stream",
     "text": [
      " * sqlite:///./AuctionBase.db\n",
      "Done.\n"
     ]
    },
    {
     "data": {
      "text/html": [
       "<table>\n",
       "    <tr>\n",
       "        <th>ItemID</th>\n",
       "        <th>Name</th>\n",
       "        <th>Currently</th>\n",
       "        <th>First_Bid</th>\n",
       "        <th>Buy_Price</th>\n",
       "        <th>Number_of_Bids</th>\n",
       "        <th>Started</th>\n",
       "        <th>Ends</th>\n",
       "        <th>Seller_UserID</th>\n",
       "        <th>Description</th>\n",
       "    </tr>\n",
       "    <tr>\n",
       "        <td>1046639674</td>\n",
       "        <td>SUPERMAN 1940 ACTION COMIC</td>\n",
       "        <td>290.0</td>\n",
       "        <td>250.0</td>\n",
       "        <td>None</td>\n",
       "        <td>5</td>\n",
       "        <td>2001-12-10 05:54:59</td>\n",
       "        <td>2001-12-20 05:54:59</td>\n",
       "        <td>gsmith@abc6.com</td>\n",
       "        <td>FOR SERIOUS COLLECTORS ONLY. THIS IS A 1940 ACTION COMIC. \"SUPERMAN NO. 30\" IN NEAR MINT CONDITION. DON'T BID IF YOU DON'T INTEND TO PAY. IF YOU HAVE QUESTIONS PLEASE EMAIL ME BEFORE YOU BID. PAYMENT BY MONEY ORDER OR CERTIFIED CHECK ONLY. THANKS FOR LOOKING AND HAPPY HOLIDAYS. Click on a picture to enlarge ') //-- Supersize Picture ') //-- Supersize Picture Free Honesty Counters powered by Andale! Payment Details See item description and Payment Instructions, or contact seller for more information. Payment Instructions I WILL PAY FOR SHIPPING AND INSURANCE ON THIS ITEM AND PROVIDE A TRACKING NUMBER.</td>\n",
       "    </tr>\n",
       "</table>"
      ],
      "text/plain": [
       "[(1046639674, u'SUPERMAN 1940 ACTION COMIC', 290.0, 250.0, None, 5, u'2001-12-10 05:54:59', u'2001-12-20 05:54:59', u'gsmith@abc6.com', u'FOR SERIOUS COLLECTORS ONLY. THIS IS A 1940 ACTION COMIC. \"SUPERMAN NO. 30\" IN NEAR MINT CONDITION. DON\\'T BID IF YOU DON\\'T INTEND TO PAY. IF YOU H ... (314 characters truncated) ... tions, or contact seller for more information. Payment Instructions I WILL PAY FOR SHIPPING AND INSURANCE ON THIS ITEM AND PROVIDE A TRACKING NUMBER.')]"
      ]
     },
     "execution_count": 29,
     "metadata": {},
     "output_type": "execute_result"
    }
   ],
   "source": [
    "%%sql\n",
    "select * from items where itemid = 1046639674"
   ]
  },
  {
   "cell_type": "code",
   "execution_count": 37,
   "metadata": {},
   "outputs": [
    {
     "name": "stdout",
     "output_type": "stream",
     "text": [
      " * sqlite:///./AuctionBase.db\n",
      "Done.\n"
     ]
    },
    {
     "data": {
      "text/html": [
       "<table>\n",
       "    <tr>\n",
       "        <th>ItemID</th>\n",
       "        <th>Name</th>\n",
       "        <th>Currently</th>\n",
       "        <th>First_Bid</th>\n",
       "        <th>Buy_Price</th>\n",
       "        <th>Number_of_Bids</th>\n",
       "        <th>Started</th>\n",
       "        <th>Ends</th>\n",
       "        <th>Seller_UserID</th>\n",
       "        <th>Description</th>\n",
       "    </tr>\n",
       "    <tr>\n",
       "        <td>1046651797</td>\n",
       "        <td>AGATHA CHRISTIE FACE TO FACE GAME CARD</td>\n",
       "        <td>2.0</td>\n",
       "        <td>2.0</td>\n",
       "        <td>9.45</td>\n",
       "        <td>0</td>\n",
       "        <td>2001-12-10 07:01:21</td>\n",
       "        <td>2001-12-20 07:01:21</td>\n",
       "        <td>seaol.com</td>\n",
       "        <td>ONE OF THE GREAT WRITERS OF THE 20TH CENTURY. FROM A GAME CALLED FACE TO FACE PRODUCED IN THE EARLY 1990'S.AN UNUSUAL AGATHA CHRISTIE CARD.THE BACK OF THE CARD HAS A SINGLE LETTER ON IT THAT IS USED TO PLAY THE GAME. NICE CONDITION.LOW OPENING BID.YOU ARE BIDDING ON THE CARD IN THE 2ND ROW,FAR LEFT ONLY.ALL OTHERS IN PHOTO ARE IN OUR OTHER ONGOING AUCTIONS ON EBAY. WINNER TO PAY $1.50 SHIPPING ANYWHERE IN THE U.S. COMBINE WINNING BIDS TO SAVE SOME ON SHIPPING.GOOD LUCK!</td>\n",
       "    </tr>\n",
       "    <tr>\n",
       "        <td>1046807992</td>\n",
       "        <td>BATMAN #404.1987.YEAR 1-PART 1.NEAR MINT</td>\n",
       "        <td>9.5</td>\n",
       "        <td>9.5</td>\n",
       "        <td>29.07</td>\n",
       "        <td>0</td>\n",
       "        <td>2001-12-10 14:57:34</td>\n",
       "        <td>2001-12-20 14:57:34</td>\n",
       "        <td>fredkarger</td>\n",
       "        <td>BATMAN #404.1987.YEAR ONE-PART 1.D.C.COMICS.COPY IS in NEAR MINT or better condition. ALMOST as nice as the day it came off the shelf. shipping on this item will be 4.00....insurance, 1.25 extra. Payment Details See item description and Payment Instructions, or contact seller for more information. Payment Instructions See item description or contact seller for more information.</td>\n",
       "    </tr>\n",
       "    <tr>\n",
       "        <td>1046935160</td>\n",
       "        <td>Precious Moments Ornament-GLIDE THRU HOLLIDAY</td>\n",
       "        <td>4.99</td>\n",
       "        <td>4.99</td>\n",
       "        <td>22.66</td>\n",
       "        <td>0</td>\n",
       "        <td>2001-12-10 18:39:36</td>\n",
       "        <td>2001-12-20 18:39:36</td>\n",
       "        <td>lwm123</td>\n",
       "        <td>Precious Moments Ornament-GLIDE THRU HOLLIDAY Click picture to enlarge Makes a great gift for Christmas Description Up for bids is this great Christmas Ornament from Precious Moments. It is #512566, GLIDE THROUGH THE HOLIDAYS. It is an adorable ornament of a girl on roller skates. It is really cute, just look at the pictures. It was released in 1990 and RETIRED from production in 1990. This was a very short production time. This ornament bears the FIRST production mark of the Flame. Precious Moments ornaments are outstanding in their attention to detail. It is like getting a miniature figurine with every little detail still there. They are made from the same material as the figurines and are hand painted with great care. This ornament is in EXCELLENT condition. It has only been displayed in a glass case and comes in its original box with all production tags included. The Greenbook Guide To Precious Moments gives Glide Through The Holidays a value of $26.00. The bidding starts at $4.99 with NO RESERVE!!! THANK YOU FOR LOOKING AND HAPPY BIDDING!!!!!!!!!!!!!! US Shipping is $4.35 for Priority Mail with tracking. International shipping, including Canada, is different depending on destination. International bidders, including Canada, must pay through Pay Pal or in US Cash. Email with any questions. Insurance, if desired, is extra. 0-$50.=1.10 - $51.-$100.=$2.00 -$101.-$200.=$3.00 - $201 - $250.=$4.00. Winning bidder must make contact within 3 days and payment must be received witin 10 days (21 days for international winners) or Ebay will be contacted and item relisted. If you don't intend to complete the transaction, Please Don't Bid. Details Click picture to enlarge Condition Excellent This item is in EXCELLENT condition it has only been displayed in a glass case. It comes in its original box with all production tags included!!!!! Payment and Shipping Info Payment Options Money Order/Cashier's Check or Personal Check _ _ _ Shipping Fixed Shipping Charges.$4.35 (Domestic) Will Ship Internationally Quantity Available 1 Special! GET FREE SHIPPING IN THE US WHEN YOU WIN 5 OR MORE OF MY ORNAMENT AUCTIONS!!!!...PLEASE CLICK THE LINK BELOW TO VIEW MY OTHER ITEMS. It Shows ALL My Auctions!!!!.....I have many quality Precious Moments Ornament listed.....ALL with starting bids of $4.99 or less and ALL with NO RESERVE!!! CHECK THEM OUT!!!!!...I accept Pay Pal, Money Orders and Personal Checks. Please note there is 10 day hold on shipping till Personal Checks clear. Click picture to enlarge _ Click picture to enlarge _ Use the REAL selling tools a million sellers do - Andale!</td>\n",
       "    </tr>\n",
       "    <tr>\n",
       "        <td>1047562206</td>\n",
       "        <td>Victoria Secret sz M Ribbed T-Neck Sweater</td>\n",
       "        <td>3.9</td>\n",
       "        <td>3.9</td>\n",
       "        <td>18.73</td>\n",
       "        <td>0</td>\n",
       "        <td>2001-12-16 19:13:04</td>\n",
       "        <td>2001-12-23 19:13:04</td>\n",
       "        <td>laceygracey</td>\n",
       "        <td>None</td>\n",
       "    </tr>\n",
       "    <tr>\n",
       "        <td>1047763579</td>\n",
       "        <td>ARTS &amp; CRAFTS METALWARE ROYCROFT BOOK</td>\n",
       "        <td>20.0</td>\n",
       "        <td>20.0</td>\n",
       "        <td>97.55</td>\n",
       "        <td>0</td>\n",
       "        <td>2001-12-12 14:06:46</td>\n",
       "        <td>2001-12-22 14:06:46</td>\n",
       "        <td>soldold</td>\n",
       "        <td>ARTS &amp; CRAFTS METALWARE ROYCROFT BOOK This brand new book is titled \"ARTS &amp; CRAFTS METALWORK AND SILVER by Joanna Wissinger Published in 1994 Out of Print It is one of the best texts on arts &amp; crafts metalwork and silver The text provides concise history and photographs depicting some of the finest works of Arts &amp; Crafts metalwork Roycroft, Stickley, Dirk Van Erp Heintz Art Metal Shops, Italian Polychrome, Jarvie Early Liberty &amp; Co, Chicago Silver makers, Carence Crafters, California Copper, and more This book is full of wonderful photographs It is BRAND NEW Hardbound w/ dust jacket 64 Pages 8 1/4\" x 8 1/4\" A must for any ARTS &amp; CRAFTS Enthusiast USA Buyer Pays $5.00 SHIPPING &amp; HANDLING INSURANCE INCLUDED PAYMENT BY CHECK, MONEY ORDER OR BIDPAY.COM (SORRY, NO PAYPAL) IS EXPECTED WITHIN 7 DAYS OF AUCTION END ! N.Y.S. RESIDENTS MUST ADD 7 1/4 % SALES TAX PLEASE EMAIL ANY QUESTIONS CLICK HERE TO SEE MY OTHER AUCTIONS INTERNATIONAL BUYERS MUST PAY USING BIDPAY.COM ONLY (SORRY, NO PAYPAL) This listing created by eBay Seller's Assistant Basic. Free Honesty Counters powered by Andale! Payment Details See item description and Payment Instructions, or contact seller for more information. Payment Instructions See item description or contact seller for more information.</td>\n",
       "    </tr>\n",
       "</table>"
      ],
      "text/plain": [
       "[(1046651797, u'AGATHA CHRISTIE FACE TO FACE GAME CARD', 2.0, 2.0, 9.45, 0, u'2001-12-10 07:01:21', u'2001-12-20 07:01:21', u'seaol.com', u\"ONE OF THE GREAT WRITERS OF THE 20TH CENTURY. FROM A GAME CALLED FACE TO FACE PRODUCED IN THE EARLY 1990'S.AN UNUSUAL AGATHA CHRISTIE CARD.THE BACK  ... (177 characters truncated) ... ARE IN OUR OTHER ONGOING AUCTIONS ON EBAY. WINNER TO PAY $1.50 SHIPPING ANYWHERE IN THE U.S. COMBINE WINNING BIDS TO SAVE SOME ON SHIPPING.GOOD LUCK!\"),\n",
       " (1046807992, u'BATMAN #404.1987.YEAR 1-PART 1.NEAR MINT', 9.5, 9.5, 29.07, 0, u'2001-12-10 14:57:34', u'2001-12-20 14:57:34', u'fredkarger', u'BATMAN #404.1987.YEAR ONE-PART 1.D.C.COMICS.COPY IS in NEAR MINT or better condition. ALMOST as nice as the day it came off the shelf. shipping on t ... (83 characters truncated) ... n and Payment Instructions, or contact seller for more information. Payment Instructions See item description or contact seller for more information.'),\n",
       " (1046935160, u'Precious Moments Ornament-GLIDE THRU HOLLIDAY', 4.99, 4.99, 22.66, 0, u'2001-12-10 18:39:36', u'2001-12-20 18:39:36', u'lwm123', u\"Precious Moments Ornament-GLIDE THRU HOLLIDAY Click picture to enlarge Makes a great gift for Christmas Description Up for bids is this great Christ ... (2309 characters truncated) ...  shipping till Personal Checks clear. Click picture to enlarge _ Click picture to enlarge _ Use the REAL selling tools a million sellers do - Andale!\"),\n",
       " (1047562206, u'Victoria Secret sz M Ribbed T-Neck Sweater', 3.9, 3.9, 18.73, 0, u'2001-12-16 19:13:04', u'2001-12-23 19:13:04', u'laceygracey', None),\n",
       " (1047763579, u'ARTS & CRAFTS METALWARE ROYCROFT BOOK', 20.0, 20.0, 97.55, 0, u'2001-12-12 14:06:46', u'2001-12-22 14:06:46', u'soldold', u'ARTS & CRAFTS METALWARE ROYCROFT BOOK This brand new book is titled \"ARTS & CRAFTS METALWORK AND SILVER by Joanna Wissinger Published in 1994 Out of ... (983 characters truncated) ... n and Payment Instructions, or contact seller for more information. Payment Instructions See item description or contact seller for more information.')]"
      ]
     },
     "execution_count": 37,
     "metadata": {},
     "output_type": "execute_result"
    }
   ],
   "source": [
    "%%sql\n",
    "select * from items where number_of_bids = 0 and buy_price > 0 and ends > (select time from currenttime) and started <= (select time from currenttime) limit 5"
   ]
  },
  {
   "cell_type": "code",
   "execution_count": 38,
   "metadata": {},
   "outputs": [],
   "source": [
    "import sys; sys.path.insert(0, 'lib') # this line is necessary for the rest\n",
    "import os   \n",
    "import web\n",
    "import sqlitedb\n",
    "from jinja2 import Environment, FileSystemLoader\n",
    "from datetime import datetime\n",
    "\n",
    "\n",
    "\n",
    "db = web.database(dbn='sqlite',\n",
    "        db='AuctionBase.db' #TODO: add your SQLite database filename\n",
    "    )\n",
    "\n",
    "######################BEGIN HELPER METHODS######################\n",
    "\n",
    "# Enforce foreign key constraints\n",
    "# WARNING: DO NOT REMOVE THIS!\n",
    "def enforceForeignKey():\n",
    "    db.query('PRAGMA foreign_keys = ON')\n",
    "\n",
    "# initiates a transaction on the database\n",
    "def transaction():\n",
    "    return db.transaction()\n",
    "# Sample usage (in auctionbase.py):\n",
    "#\n",
    "# t = sqlitedb.transaction()\n",
    "# try:\n",
    "#     sqlitedb.query('[FIRST QUERY STATEMENT]')\n",
    "#     sqlitedb.query('[SECOND QUERY STATEMENT]')\n",
    "# except Exception as e:\n",
    "#     t.rollback()\n",
    "#     print str(e)\n",
    "# else:\n",
    "#     t.commit()\n",
    "#\n",
    "# check out http://webpy.org/cookbook/transactions for examples\n",
    "\n",
    "# returns the current time from your database\n",
    "def getTime():\n",
    "    # TODO: update the query string to match\n",
    "    # the correct column and table name in your database\n",
    "    query_string = 'select Time from CurrentTime'\n",
    "    results = db.query(query_string)\n",
    "    # alternatively: return results[0]['currenttime']\n",
    "    return results[0].Time # TODO: update this as well to match the\n",
    "                                  # column name\n",
    "\n",
    "# returns a single item specified by the Item's ID in the database\n",
    "# Note: if the `result' list is empty (i.e. there are no items for a\n",
    "# a given ID), this will throw an Exception!\n",
    "def getItemById(item_id):\n",
    "    # TODO: rewrite this method to catch the Exception in case `result' is empty\n",
    "    query_string = 'select * from Items where itemID = $itemID'\n",
    "    try:\n",
    "        result = db.query(query_string, {'itemID': item_id})\n",
    "        return result[0]\n",
    "    except not result:\n",
    "        return \"No result\"\n",
    "    \n",
    "    \n",
    "def getCategoryById(item_id):\n",
    "    query_string = 'select * from Categories where ItemId = $ItemID'\n",
    "    try:\n",
    "        result = db.query(query_string, {'ItemID': item_id})\n",
    "        return result\n",
    "    except not result:\n",
    "        return \"No result\"\n",
    "\n",
    "def getBidById(item_id):\n",
    "    query_string = 'select * from Bids where ItemId = $ItemID order by Time desc'\n",
    "    try:\n",
    "        result = db.query(query_string, {'ItemID': item_id})\n",
    "        return result\n",
    "    except not result:\n",
    "        return \"No result\"\n",
    "\n",
    "    \n",
    "def getStatusById(item_id):\n",
    "    query_open = 'select * from Items where ItemID = $ItemID and Started <= (select Time from CurrentTime) and Ends > (select Time from CurrentTime) and (Currently < Buy_Price or Buy_Price is NULL)'\n",
    "    result_open = db.query(query_open, {'ItemID' : item_id})\n",
    "    if result_open:\n",
    "        print('open')\n",
    "    else:\n",
    "        query_close = 'select * from Items where ItemID = $ItemID and (Ends <= (select Time from CurrentTime) or Currently >= Buy_Price)'\n",
    "        result_close = db.query(query_close, {'ItemID':item_id})\n",
    "        if result_close:\n",
    "            print('close')\n",
    "        else:\n",
    "            print('not started')\n",
    "# wrapper method around web.py's db.query method\n",
    "# check out http://webpy.org/cookbook/query for more info\n",
    "def query(query_string, vars = {}):\n",
    "    return list(db.query(query_string, vars))\n",
    "\n",
    "#####################END HELPER METHODS#####################\n",
    "\n",
    "#TODO: additional methods to interact with your database,\n",
    "# e.g. to update the current time\n",
    "def updateTime(time):\n",
    "    txn = transaction()\n",
    "    try:\n",
    "        \n",
    "#         ##if time is less than or equal to current time, return false\n",
    "#         q1 = query('select time from currenttime where time <= $time', {'time':time})\n",
    "#         if (len(q1)<= 0 ):\n",
    "#             return \"Fail to update time\"\n",
    "        query_string = 'update CurrentTime set Time = $time'\n",
    "        db.query(query_string, {'time':time})\n",
    "    except:\n",
    "        txn.rollback()\n",
    "        return \"Cannot Update\"\n",
    "    else:\n",
    "        txn.commit()\n",
    "        return \"Successfully update time\"\n",
    "\n",
    "def addBid(item_id, user_id, amount):\n",
    "    txn = transaction()\n",
    "    try:\n",
    "        ##check whether the user exists.if not, directly return false.\n",
    "        q1 = query('select * from Users where UserID =  $user_id', vars={ 'user_id' : user_id })\n",
    "        if (len(q1)<=0): \n",
    "            return False\n",
    "        ##check whether the item is exist and open and the amount if greater than currently: if not, directly return false.\n",
    "        q2 = query('select * from Items where ItemID = $item_id and Started <= (select Time from CurrentTime) and Ends > (select Time from CurrentTime) and ( (Buy_Price is NULL) or (Currently < Buy_Price) ) and Currently < $Amount', vars={'item_id':item_id, 'Amount': amount })\n",
    "        if (len(q2)<=0):\n",
    "            return False\n",
    "        ##check if there has already exists bid at the current time: if yes, return false\n",
    "        q3 = query('select * from bids where ItemID = $item_id and time = (select Time from CurrentTime)', vars={'item_id':item_id })\n",
    "        if (len(q3)>0):\n",
    "            return False\n",
    "        ##if buy price in items is not null\n",
    "        ####if ends in items hasn't been reached, but given amount has been greater than buy price\n",
    "        ######update ends to currenttime\n",
    "        db.query('update Items SET Ends=(select Time from CurrentTime) WHERE ItemID=$item_id and ( (not (buy_price is NULL)) and ($Amount >= buy_price) )', {'item_id':item_id, 'Amount': amount})\n",
    "        ##add new bid to table bids\n",
    "        db.query('insert into Bids values($item_id, $user_id, $Amount, (select Time from CurrentTime))', {'item_id':item_id, 'user_id':user_id, 'Amount':amount})\n",
    "#         ##if number of bids in items == 0, first bid = amount in table items\n",
    "#         db.query('update Items SET first_bid=$Amount WHERE ItemID=$item_id and number_of_bids = 0', {'item_id':item_id, 'Amount': amount})\n",
    "    #     ##currently change to amount, and number of bids++ in table items\n",
    "    #     query('update Items SET currently=$Amount, number_of_bids = (1+(select number_of_bids from items where itemid = $item_id)) WHERE ItemID=$item_id', {'item_id':item_id, 'Amount': amount})\n",
    "    except:\n",
    "        txn.rollback()\n",
    "        return False\n",
    "    else:\n",
    "        txn.commit()\n",
    "        return True\n",
    "\n",
    "def browse(itemID = '', category = '', description = '', pmin = '', pmax = '', status = ''):\n",
    "    query_string = 'select * from Items where '\n",
    "    field = {}\n",
    "    flag = True\n",
    "    if itemID != '':\n",
    "        field['itemID'] = itemID\n",
    "        query_string += 'ItemID in (select ItemID from Items where ItemID = $itemID)'\n",
    "        flag = False \n",
    "\n",
    "    if category != '':\n",
    "        field['category'] = category\n",
    "        if flag == True:\n",
    "            query_string += 'ItemID in (select ItemID from Categories where Category = $category)'\n",
    "            flag = False\n",
    "        else:\n",
    "            query_string += ' and ItemID in (select ItemID from Categories where Category = $category)'\n",
    "            \n",
    "    if description != '':    \n",
    "        field['description'] = description\n",
    "        if flag == True: \n",
    "            query_string += 'ItemID in (select ItemID from Items where Description like $description)'\n",
    "            flag = False\n",
    "        else:\n",
    "            query_string += ' and ItemID in (select ItemID from Items where Description like $description)'\n",
    "            \n",
    "    if pmin != '':\n",
    "        field['pmin'] = pmin\n",
    "        if flag == True:\n",
    "            query_string += 'ItemID in (select ItemID from Items where Currently >= $pmin)'\n",
    "            flag = False\n",
    "        else:\n",
    "            query_string += ' and ItemID in (select ItemID from Items where Currently >= $pmin)'\n",
    "\n",
    "    if pmax != '':\n",
    "        field['pmax'] = pmax\n",
    "        if flag == True: \n",
    "            query_string += 'ItemID in (select ItemID from Items where Currently <= $pmax)'\n",
    "            flag = False\n",
    "        else:\n",
    "            query_string += ' and ItemID in (select ItemID from Items where Currently <= $pmax)'\n",
    "\n",
    "    if status == 'open':\n",
    "        if flag == True:\n",
    "            query_string += 'Started <= (select Time from CurrentTime) and Ends > (select Time from CurrentTime) and (Currently < Buy_Price or Buy_Price is NULL)'\n",
    "            flag = False\n",
    "        else:\n",
    "            query_string += ' and Started <= (select Time from CurrentTime) and Ends > (select Time from CurrentTime) and (Currently < Buy_Price or Buy_Price is NULL)'\n",
    "    elif status == 'close':\n",
    "        if flag == True:\n",
    "            query_string += '(Ends <= (select Time from CurrentTime) or Currently >= Buy_Price)'\n",
    "            flag = False\n",
    "        else:\n",
    "            query_string += ' and (Ends <= (select Time from CurrentTime) or Currently >= Buy_Price)'\n",
    "\n",
    "    if flag == True:\n",
    "        query_string = 'select * from Items'\n",
    "    result = db.query(query_string, field)\n",
    "    return result\n",
    "\n"
   ]
  },
  {
   "cell_type": "code",
   "execution_count": null,
   "metadata": {},
   "outputs": [],
   "source": []
  }
 ],
 "metadata": {
  "kernelspec": {
   "display_name": "Python 2",
   "language": "python",
   "name": "python2"
  },
  "language_info": {
   "codemirror_mode": {
    "name": "ipython",
    "version": 2
   },
   "file_extension": ".py",
   "mimetype": "text/x-python",
   "name": "python",
   "nbconvert_exporter": "python",
   "pygments_lexer": "ipython2",
   "version": "2.7.15"
  }
 },
 "nbformat": 4,
 "nbformat_minor": 2
}
